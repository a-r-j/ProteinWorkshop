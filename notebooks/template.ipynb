{
 "cells": [
  {
   "cell_type": "code",
   "execution_count": 1,
   "metadata": {},
   "outputs": [],
   "source": [
    "%load_ext autoreload\n",
    "%autoreload 2\n",
    "# %load_ext blackcellmagic"
   ]
  },
  {
   "cell_type": "code",
   "execution_count": 2,
   "metadata": {},
   "outputs": [
    {
     "name": "stderr",
     "output_type": "stream",
     "text": [
      "/home/atj39/github/protein_workshop/src/utils/notebook.py:38: UserWarning: \n",
      "The version_base parameter is not specified.\n",
      "Please specify a compatability version level, or None.\n",
      "Will assume defaults for version 1.1\n",
      "  hydra.initialize(rel_path)\n",
      "2023-03-27 21:48:22.759 | INFO     | src.utils.notebook:init_hydra_singleton:39 - Hydra initialised at /home/atj39/github/protein_workshop/configs.\n",
      "/tmp/ipykernel_138653/4232076684.py:20: UserWarning: \n",
      "The version_base parameter is not specified.\n",
      "Please specify a compatability version level, or None.\n",
      "Will assume defaults for version 1.1\n",
      "  hydra.initialize(rel_path)\n"
     ]
    }
   ],
   "source": [
    "# Notebook dev tools\n",
    "from typing import *\n",
    "import copy\n",
    "\n",
    "# General tools\n",
    "import numpy as np\n",
    "\n",
    "# Pytorch tools\n",
    "import torch\n",
    "import torch.nn as nn\n",
    "from hydra.compose import GlobalHydra\n",
    "from proteinworkshop.utils.notebook import *\n",
    "\n",
    "init_hydra_singleton(reload=True)\n",
    "\n",
    "path = HYDRA_CONFIG_PATH\n",
    "rel_path = os.path.relpath(path, start=\".\")\n",
    "\n",
    "GlobalHydra.instance().clear()\n",
    "hydra.initialize(rel_path)\n",
    "\n",
    "cfg = hydra.compose(\"template\", overrides=[], return_hydra_config=False)"
   ]
  }
 ],
 "metadata": {
  "kernelspec": {
   "display_name": "Python 3",
   "language": "python",
   "name": "python3"
  },
  "language_info": {
   "codemirror_mode": {
    "name": "ipython",
    "version": 3
   },
   "file_extension": ".py",
   "mimetype": "text/x-python",
   "name": "python",
   "nbconvert_exporter": "python",
   "pygments_lexer": "ipython3",
   "version": "3.9.16"
  },
  "orig_nbformat": 4
 },
 "nbformat": 4,
 "nbformat_minor": 2
}
