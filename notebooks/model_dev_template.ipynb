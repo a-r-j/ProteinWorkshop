{
 "cells": [
  {
   "cell_type": "code",
   "execution_count": 1,
   "metadata": {},
   "outputs": [],
   "source": [
    "%load_ext autoreload\n",
    "%autoreload 2\n",
    "# %load_ext blackcellmagic"
   ]
  },
  {
   "cell_type": "code",
   "execution_count": null,
   "metadata": {},
   "outputs": [],
   "source": [
    "# Install graphein from master for bleeding-edge additions\n",
    "!pip install git+https://github.com/a-r-j/graphein"
   ]
  },
  {
   "cell_type": "code",
   "execution_count": 2,
   "metadata": {},
   "outputs": [
    {
     "name": "stderr",
     "output_type": "stream",
     "text": [
      "/home/atj39/github/protein_workshop/src/utils/notebook.py:38: UserWarning: \n",
      "The version_base parameter is not specified.\n",
      "Please specify a compatability version level, or None.\n",
      "Will assume defaults for version 1.1\n",
      "  hydra.initialize(rel_path)\n",
      "2023-04-01 00:12:17.326 | INFO     | src.utils.notebook:init_hydra_singleton:39 - Hydra initialised at /home/atj39/github/protein_workshop/configs.\n",
      "/tmp/ipykernel_2160491/3798039777.py:20: UserWarning: \n",
      "The version_base parameter is not specified.\n",
      "Please specify a compatability version level, or None.\n",
      "Will assume defaults for version 1.1\n",
      "  hydra.initialize(rel_path)\n"
     ]
    }
   ],
   "source": [
    "# Notebook dev tools\n",
    "from typing import *\n",
    "import copy\n",
    "\n",
    "# General tools\n",
    "import numpy as np\n",
    "\n",
    "# Pytorch tools\n",
    "import torch\n",
    "import torch.nn as nn\n",
    "from hydra.compose import GlobalHydra\n",
    "from proteinworkshop.utils.notebook import *\n",
    "\n",
    "init_hydra_singleton(reload=True)\n",
    "\n",
    "path = HYDRA_CONFIG_PATH\n",
    "rel_path = os.path.relpath(path, start=\".\")\n",
    "\n",
    "GlobalHydra.instance().clear()\n",
    "hydra.initialize(rel_path)\n",
    "\n",
    "cfg = hydra.compose(\n",
    "    \"template\",\n",
    "    overrides=[\"dataset=afdb_swissprot_v4\"],\n",
    "    return_hydra_config=False,\n",
    ")"
   ]
  },
  {
   "attachments": {},
   "cell_type": "markdown",
   "metadata": {},
   "source": [
    "### Load a dataset\n",
    "\n",
    "Can switch out for another by replacing the dataset arg in overrides:\n",
    "\n",
    "`cfg = hydra.compose(\"template\", overrides=[\"dataset=afdb_swissprot_v4\"], return_hydra_config=False)`"
   ]
  },
  {
   "cell_type": "code",
   "execution_count": 5,
   "metadata": {},
   "outputs": [
    {
     "name": "stderr",
     "output_type": "stream",
     "text": [
      "100%|██████████| 542378/542378 [00:00<00:00, 3186587.18it/s]\n",
      "Processing...\n",
      "Done!\n"
     ]
    }
   ],
   "source": [
    "from proteinworkshop.datasets.factory import get_dataset\n",
    "\n",
    "datamodule = get_dataset(cfg)\n",
    "datamodule.setup(\"train\")\n",
    "dl = datamodule.train_dataloader()"
   ]
  },
  {
   "cell_type": "code",
   "execution_count": 17,
   "metadata": {},
   "outputs": [
    {
     "name": "stderr",
     "output_type": "stream",
     "text": [
      "/home/atj39/mambaforge/envs/workshop/lib/python3.9/site-packages/torch_geometric/data/collate.py:145: UserWarning:\n",
      "\n",
      "TypedStorage is deprecated. It will be removed in the future and UntypedStorage will be the only storage class. This should only matter to you if you are using storages directly.  To access UntypedStorage directly, use tensor.untyped_storage() instead of tensor.storage()\n",
      "\n",
      "/home/atj39/mambaforge/envs/workshop/lib/python3.9/site-packages/torch_geometric/data/collate.py:145: UserWarning:\n",
      "\n",
      "TypedStorage is deprecated. It will be removed in the future and UntypedStorage will be the only storage class. This should only matter to you if you are using storages directly.  To access UntypedStorage directly, use tensor.untyped_storage() instead of tensor.storage()\n",
      "\n",
      "/home/atj39/mambaforge/envs/workshop/lib/python3.9/site-packages/torch_geometric/data/collate.py:145: UserWarning:\n",
      "\n",
      "TypedStorage is deprecated. It will be removed in the future and UntypedStorage will be the only storage class. This should only matter to you if you are using storages directly.  To access UntypedStorage directly, use tensor.untyped_storage() instead of tensor.storage()\n",
      "\n",
      "/home/atj39/mambaforge/envs/workshop/lib/python3.9/site-packages/torch_geometric/data/collate.py:145: UserWarning:\n",
      "\n",
      "TypedStorage is deprecated. It will be removed in the future and UntypedStorage will be the only storage class. This should only matter to you if you are using storages directly.  To access UntypedStorage directly, use tensor.untyped_storage() instead of tensor.storage()\n",
      "\n",
      "/home/atj39/mambaforge/envs/workshop/lib/python3.9/site-packages/torch_geometric/data/collate.py:145: UserWarning:\n",
      "\n",
      "TypedStorage is deprecated. It will be removed in the future and UntypedStorage will be the only storage class. This should only matter to you if you are using storages directly.  To access UntypedStorage directly, use tensor.untyped_storage() instead of tensor.storage()\n",
      "\n",
      "/home/atj39/mambaforge/envs/workshop/lib/python3.9/site-packages/torch_geometric/data/collate.py:145: UserWarning:\n",
      "\n",
      "TypedStorage is deprecated. It will be removed in the future and UntypedStorage will be the only storage class. This should only matter to you if you are using storages directly.  To access UntypedStorage directly, use tensor.untyped_storage() instead of tensor.storage()\n",
      "\n",
      "/home/atj39/mambaforge/envs/workshop/lib/python3.9/site-packages/torch_geometric/data/collate.py:145: UserWarning:\n",
      "\n",
      "TypedStorage is deprecated. It will be removed in the future and UntypedStorage will be the only storage class. This should only matter to you if you are using storages directly.  To access UntypedStorage directly, use tensor.untyped_storage() instead of tensor.storage()\n",
      "\n",
      "/home/atj39/mambaforge/envs/workshop/lib/python3.9/site-packages/torch_geometric/data/collate.py:145: UserWarning:\n",
      "\n",
      "TypedStorage is deprecated. It will be removed in the future and UntypedStorage will be the only storage class. This should only matter to you if you are using storages directly.  To access UntypedStorage directly, use tensor.untyped_storage() instead of tensor.storage()\n",
      "\n",
      "/home/atj39/mambaforge/envs/workshop/lib/python3.9/site-packages/torch_geometric/data/collate.py:145: UserWarning:\n",
      "\n",
      "TypedStorage is deprecated. It will be removed in the future and UntypedStorage will be the only storage class. This should only matter to you if you are using storages directly.  To access UntypedStorage directly, use tensor.untyped_storage() instead of tensor.storage()\n",
      "\n",
      "/home/atj39/mambaforge/envs/workshop/lib/python3.9/site-packages/torch_geometric/data/collate.py:145: UserWarning:\n",
      "\n",
      "TypedStorage is deprecated. It will be removed in the future and UntypedStorage will be the only storage class. This should only matter to you if you are using storages directly.  To access UntypedStorage directly, use tensor.untyped_storage() instead of tensor.storage()\n",
      "\n",
      "/home/atj39/mambaforge/envs/workshop/lib/python3.9/site-packages/torch_geometric/data/collate.py:145: UserWarning:\n",
      "\n",
      "TypedStorage is deprecated. It will be removed in the future and UntypedStorage will be the only storage class. This should only matter to you if you are using storages directly.  To access UntypedStorage directly, use tensor.untyped_storage() instead of tensor.storage()\n",
      "\n",
      "/home/atj39/mambaforge/envs/workshop/lib/python3.9/site-packages/torch_geometric/data/collate.py:145: UserWarning:\n",
      "\n",
      "TypedStorage is deprecated. It will be removed in the future and UntypedStorage will be the only storage class. This should only matter to you if you are using storages directly.  To access UntypedStorage directly, use tensor.untyped_storage() instead of tensor.storage()\n",
      "\n",
      "/home/atj39/mambaforge/envs/workshop/lib/python3.9/site-packages/torch_geometric/data/collate.py:145: UserWarning:\n",
      "\n",
      "TypedStorage is deprecated. It will be removed in the future and UntypedStorage will be the only storage class. This should only matter to you if you are using storages directly.  To access UntypedStorage directly, use tensor.untyped_storage() instead of tensor.storage()\n",
      "\n",
      "/home/atj39/mambaforge/envs/workshop/lib/python3.9/site-packages/torch_geometric/data/collate.py:145: UserWarning:\n",
      "\n",
      "TypedStorage is deprecated. It will be removed in the future and UntypedStorage will be the only storage class. This should only matter to you if you are using storages directly.  To access UntypedStorage directly, use tensor.untyped_storage() instead of tensor.storage()\n",
      "\n",
      "/home/atj39/mambaforge/envs/workshop/lib/python3.9/site-packages/torch_geometric/data/collate.py:145: UserWarning:\n",
      "\n",
      "TypedStorage is deprecated. It will be removed in the future and UntypedStorage will be the only storage class. This should only matter to you if you are using storages directly.  To access UntypedStorage directly, use tensor.untyped_storage() instead of tensor.storage()\n",
      "\n",
      "/home/atj39/mambaforge/envs/workshop/lib/python3.9/site-packages/torch_geometric/data/collate.py:145: UserWarning:\n",
      "\n",
      "TypedStorage is deprecated. It will be removed in the future and UntypedStorage will be the only storage class. This should only matter to you if you are using storages directly.  To access UntypedStorage directly, use tensor.untyped_storage() instead of tensor.storage()\n",
      "\n",
      "/home/atj39/mambaforge/envs/workshop/lib/python3.9/site-packages/torch_geometric/data/collate.py:145: UserWarning:\n",
      "\n",
      "TypedStorage is deprecated. It will be removed in the future and UntypedStorage will be the only storage class. This should only matter to you if you are using storages directly.  To access UntypedStorage directly, use tensor.untyped_storage() instead of tensor.storage()\n",
      "\n",
      "/home/atj39/mambaforge/envs/workshop/lib/python3.9/site-packages/torch_geometric/data/collate.py:145: UserWarning:\n",
      "\n",
      "TypedStorage is deprecated. It will be removed in the future and UntypedStorage will be the only storage class. This should only matter to you if you are using storages directly.  To access UntypedStorage directly, use tensor.untyped_storage() instead of tensor.storage()\n",
      "\n",
      "/home/atj39/mambaforge/envs/workshop/lib/python3.9/site-packages/torch_geometric/data/collate.py:145: UserWarning:\n",
      "\n",
      "TypedStorage is deprecated. It will be removed in the future and UntypedStorage will be the only storage class. This should only matter to you if you are using storages directly.  To access UntypedStorage directly, use tensor.untyped_storage() instead of tensor.storage()\n",
      "\n",
      "/home/atj39/mambaforge/envs/workshop/lib/python3.9/site-packages/torch_geometric/data/collate.py:145: UserWarning:\n",
      "\n",
      "TypedStorage is deprecated. It will be removed in the future and UntypedStorage will be the only storage class. This should only matter to you if you are using storages directly.  To access UntypedStorage directly, use tensor.untyped_storage() instead of tensor.storage()\n",
      "\n",
      "/home/atj39/mambaforge/envs/workshop/lib/python3.9/site-packages/torch_geometric/data/collate.py:145: UserWarning:\n",
      "\n",
      "TypedStorage is deprecated. It will be removed in the future and UntypedStorage will be the only storage class. This should only matter to you if you are using storages directly.  To access UntypedStorage directly, use tensor.untyped_storage() instead of tensor.storage()\n",
      "\n",
      "/home/atj39/mambaforge/envs/workshop/lib/python3.9/site-packages/torch_geometric/data/collate.py:145: UserWarning:\n",
      "\n",
      "TypedStorage is deprecated. It will be removed in the future and UntypedStorage will be the only storage class. This should only matter to you if you are using storages directly.  To access UntypedStorage directly, use tensor.untyped_storage() instead of tensor.storage()\n",
      "\n",
      "/home/atj39/mambaforge/envs/workshop/lib/python3.9/site-packages/torch_geometric/data/collate.py:145: UserWarning:\n",
      "\n",
      "TypedStorage is deprecated. It will be removed in the future and UntypedStorage will be the only storage class. This should only matter to you if you are using storages directly.  To access UntypedStorage directly, use tensor.untyped_storage() instead of tensor.storage()\n",
      "\n",
      "/home/atj39/mambaforge/envs/workshop/lib/python3.9/site-packages/torch_geometric/data/collate.py:145: UserWarning:\n",
      "\n",
      "TypedStorage is deprecated. It will be removed in the future and UntypedStorage will be the only storage class. This should only matter to you if you are using storages directly.  To access UntypedStorage directly, use tensor.untyped_storage() instead of tensor.storage()\n",
      "\n",
      "/home/atj39/mambaforge/envs/workshop/lib/python3.9/site-packages/torch_geometric/data/collate.py:145: UserWarning:\n",
      "\n",
      "TypedStorage is deprecated. It will be removed in the future and UntypedStorage will be the only storage class. This should only matter to you if you are using storages directly.  To access UntypedStorage directly, use tensor.untyped_storage() instead of tensor.storage()\n",
      "\n",
      "/home/atj39/mambaforge/envs/workshop/lib/python3.9/site-packages/torch_geometric/data/collate.py:145: UserWarning:\n",
      "\n",
      "TypedStorage is deprecated. It will be removed in the future and UntypedStorage will be the only storage class. This should only matter to you if you are using storages directly.  To access UntypedStorage directly, use tensor.untyped_storage() instead of tensor.storage()\n",
      "\n",
      "/home/atj39/mambaforge/envs/workshop/lib/python3.9/site-packages/torch_geometric/data/collate.py:145: UserWarning:\n",
      "\n",
      "TypedStorage is deprecated. It will be removed in the future and UntypedStorage will be the only storage class. This should only matter to you if you are using storages directly.  To access UntypedStorage directly, use tensor.untyped_storage() instead of tensor.storage()\n",
      "\n",
      "/home/atj39/mambaforge/envs/workshop/lib/python3.9/site-packages/torch_geometric/data/collate.py:145: UserWarning:\n",
      "\n",
      "TypedStorage is deprecated. It will be removed in the future and UntypedStorage will be the only storage class. This should only matter to you if you are using storages directly.  To access UntypedStorage directly, use tensor.untyped_storage() instead of tensor.storage()\n",
      "\n",
      "/home/atj39/mambaforge/envs/workshop/lib/python3.9/site-packages/torch_geometric/data/collate.py:145: UserWarning:\n",
      "\n",
      "TypedStorage is deprecated. It will be removed in the future and UntypedStorage will be the only storage class. This should only matter to you if you are using storages directly.  To access UntypedStorage directly, use tensor.untyped_storage() instead of tensor.storage()\n",
      "\n"
     ]
    },
    {
     "name": "stdout",
     "output_type": "stream",
     "text": [
      "DataBatch(chains=[10380], fill_value=[32], coords=[10380, 37, 3], residue_type=[10380], residue_id=[32], residues=[32], id=[32], atom_list=[32])\n"
     ]
    },
    {
     "name": "stderr",
     "output_type": "stream",
     "text": [
      "/home/atj39/mambaforge/envs/workshop/lib/python3.9/site-packages/torch_geometric/data/collate.py:145: UserWarning:\n",
      "\n",
      "TypedStorage is deprecated. It will be removed in the future and UntypedStorage will be the only storage class. This should only matter to you if you are using storages directly.  To access UntypedStorage directly, use tensor.untyped_storage() instead of tensor.storage()\n",
      "\n",
      "/home/atj39/mambaforge/envs/workshop/lib/python3.9/site-packages/torch_geometric/data/collate.py:145: UserWarning:\n",
      "\n",
      "TypedStorage is deprecated. It will be removed in the future and UntypedStorage will be the only storage class. This should only matter to you if you are using storages directly.  To access UntypedStorage directly, use tensor.untyped_storage() instead of tensor.storage()\n",
      "\n",
      "/home/atj39/mambaforge/envs/workshop/lib/python3.9/site-packages/torch_geometric/data/collate.py:145: UserWarning:\n",
      "\n",
      "TypedStorage is deprecated. It will be removed in the future and UntypedStorage will be the only storage class. This should only matter to you if you are using storages directly.  To access UntypedStorage directly, use tensor.untyped_storage() instead of tensor.storage()\n",
      "\n",
      "/home/atj39/mambaforge/envs/workshop/lib/python3.9/site-packages/torch_geometric/data/collate.py:145: UserWarning:\n",
      "\n",
      "TypedStorage is deprecated. It will be removed in the future and UntypedStorage will be the only storage class. This should only matter to you if you are using storages directly.  To access UntypedStorage directly, use tensor.untyped_storage() instead of tensor.storage()\n",
      "\n",
      "/home/atj39/mambaforge/envs/workshop/lib/python3.9/site-packages/torch_geometric/data/collate.py:145: UserWarning:\n",
      "\n",
      "TypedStorage is deprecated. It will be removed in the future and UntypedStorage will be the only storage class. This should only matter to you if you are using storages directly.  To access UntypedStorage directly, use tensor.untyped_storage() instead of tensor.storage()\n",
      "\n",
      "/home/atj39/mambaforge/envs/workshop/lib/python3.9/site-packages/torch_geometric/data/collate.py:145: UserWarning:\n",
      "\n",
      "TypedStorage is deprecated. It will be removed in the future and UntypedStorage will be the only storage class. This should only matter to you if you are using storages directly.  To access UntypedStorage directly, use tensor.untyped_storage() instead of tensor.storage()\n",
      "\n",
      "/home/atj39/mambaforge/envs/workshop/lib/python3.9/site-packages/torch_geometric/data/collate.py:145: UserWarning:\n",
      "\n",
      "TypedStorage is deprecated. It will be removed in the future and UntypedStorage will be the only storage class. This should only matter to you if you are using storages directly.  To access UntypedStorage directly, use tensor.untyped_storage() instead of tensor.storage()\n",
      "\n",
      "/home/atj39/mambaforge/envs/workshop/lib/python3.9/site-packages/torch_geometric/data/collate.py:145: UserWarning:\n",
      "\n",
      "TypedStorage is deprecated. It will be removed in the future and UntypedStorage will be the only storage class. This should only matter to you if you are using storages directly.  To access UntypedStorage directly, use tensor.untyped_storage() instead of tensor.storage()\n",
      "\n",
      "/home/atj39/mambaforge/envs/workshop/lib/python3.9/site-packages/torch_geometric/data/collate.py:145: UserWarning:\n",
      "\n",
      "TypedStorage is deprecated. It will be removed in the future and UntypedStorage will be the only storage class. This should only matter to you if you are using storages directly.  To access UntypedStorage directly, use tensor.untyped_storage() instead of tensor.storage()\n",
      "\n",
      "/home/atj39/mambaforge/envs/workshop/lib/python3.9/site-packages/torch_geometric/data/collate.py:145: UserWarning:\n",
      "\n",
      "TypedStorage is deprecated. It will be removed in the future and UntypedStorage will be the only storage class. This should only matter to you if you are using storages directly.  To access UntypedStorage directly, use tensor.untyped_storage() instead of tensor.storage()\n",
      "\n",
      "/home/atj39/mambaforge/envs/workshop/lib/python3.9/site-packages/torch_geometric/data/collate.py:145: UserWarning:\n",
      "\n",
      "TypedStorage is deprecated. It will be removed in the future and UntypedStorage will be the only storage class. This should only matter to you if you are using storages directly.  To access UntypedStorage directly, use tensor.untyped_storage() instead of tensor.storage()\n",
      "\n",
      "/home/atj39/mambaforge/envs/workshop/lib/python3.9/site-packages/torch_geometric/data/collate.py:145: UserWarning:\n",
      "\n",
      "TypedStorage is deprecated. It will be removed in the future and UntypedStorage will be the only storage class. This should only matter to you if you are using storages directly.  To access UntypedStorage directly, use tensor.untyped_storage() instead of tensor.storage()\n",
      "\n",
      "/home/atj39/mambaforge/envs/workshop/lib/python3.9/site-packages/torch_geometric/data/collate.py:145: UserWarning:\n",
      "\n",
      "TypedStorage is deprecated. It will be removed in the future and UntypedStorage will be the only storage class. This should only matter to you if you are using storages directly.  To access UntypedStorage directly, use tensor.untyped_storage() instead of tensor.storage()\n",
      "\n",
      "/home/atj39/mambaforge/envs/workshop/lib/python3.9/site-packages/torch_geometric/data/collate.py:145: UserWarning:\n",
      "\n",
      "TypedStorage is deprecated. It will be removed in the future and UntypedStorage will be the only storage class. This should only matter to you if you are using storages directly.  To access UntypedStorage directly, use tensor.untyped_storage() instead of tensor.storage()\n",
      "\n",
      "/home/atj39/mambaforge/envs/workshop/lib/python3.9/site-packages/torch_geometric/data/collate.py:145: UserWarning:\n",
      "\n",
      "TypedStorage is deprecated. It will be removed in the future and UntypedStorage will be the only storage class. This should only matter to you if you are using storages directly.  To access UntypedStorage directly, use tensor.untyped_storage() instead of tensor.storage()\n",
      "\n",
      "/home/atj39/mambaforge/envs/workshop/lib/python3.9/site-packages/torch_geometric/data/collate.py:145: UserWarning:\n",
      "\n",
      "TypedStorage is deprecated. It will be removed in the future and UntypedStorage will be the only storage class. This should only matter to you if you are using storages directly.  To access UntypedStorage directly, use tensor.untyped_storage() instead of tensor.storage()\n",
      "\n",
      "/home/atj39/mambaforge/envs/workshop/lib/python3.9/site-packages/torch_geometric/data/collate.py:145: UserWarning:\n",
      "\n",
      "TypedStorage is deprecated. It will be removed in the future and UntypedStorage will be the only storage class. This should only matter to you if you are using storages directly.  To access UntypedStorage directly, use tensor.untyped_storage() instead of tensor.storage()\n",
      "\n",
      "/home/atj39/mambaforge/envs/workshop/lib/python3.9/site-packages/torch_geometric/data/collate.py:145: UserWarning:\n",
      "\n",
      "TypedStorage is deprecated. It will be removed in the future and UntypedStorage will be the only storage class. This should only matter to you if you are using storages directly.  To access UntypedStorage directly, use tensor.untyped_storage() instead of tensor.storage()\n",
      "\n",
      "/home/atj39/mambaforge/envs/workshop/lib/python3.9/site-packages/torch_geometric/data/collate.py:145: UserWarning:\n",
      "\n",
      "TypedStorage is deprecated. It will be removed in the future and UntypedStorage will be the only storage class. This should only matter to you if you are using storages directly.  To access UntypedStorage directly, use tensor.untyped_storage() instead of tensor.storage()\n",
      "\n",
      "/home/atj39/mambaforge/envs/workshop/lib/python3.9/site-packages/torch_geometric/data/collate.py:145: UserWarning:\n",
      "\n",
      "TypedStorage is deprecated. It will be removed in the future and UntypedStorage will be the only storage class. This should only matter to you if you are using storages directly.  To access UntypedStorage directly, use tensor.untyped_storage() instead of tensor.storage()\n",
      "\n",
      "/home/atj39/mambaforge/envs/workshop/lib/python3.9/site-packages/torch_geometric/data/collate.py:145: UserWarning:\n",
      "\n",
      "TypedStorage is deprecated. It will be removed in the future and UntypedStorage will be the only storage class. This should only matter to you if you are using storages directly.  To access UntypedStorage directly, use tensor.untyped_storage() instead of tensor.storage()\n",
      "\n",
      "/home/atj39/mambaforge/envs/workshop/lib/python3.9/site-packages/torch_geometric/data/collate.py:145: UserWarning:\n",
      "\n",
      "TypedStorage is deprecated. It will be removed in the future and UntypedStorage will be the only storage class. This should only matter to you if you are using storages directly.  To access UntypedStorage directly, use tensor.untyped_storage() instead of tensor.storage()\n",
      "\n",
      "/home/atj39/mambaforge/envs/workshop/lib/python3.9/site-packages/torch_geometric/data/collate.py:145: UserWarning:\n",
      "\n",
      "TypedStorage is deprecated. It will be removed in the future and UntypedStorage will be the only storage class. This should only matter to you if you are using storages directly.  To access UntypedStorage directly, use tensor.untyped_storage() instead of tensor.storage()\n",
      "\n",
      "/home/atj39/mambaforge/envs/workshop/lib/python3.9/site-packages/torch_geometric/data/collate.py:145: UserWarning:\n",
      "\n",
      "TypedStorage is deprecated. It will be removed in the future and UntypedStorage will be the only storage class. This should only matter to you if you are using storages directly.  To access UntypedStorage directly, use tensor.untyped_storage() instead of tensor.storage()\n",
      "\n",
      "/home/atj39/mambaforge/envs/workshop/lib/python3.9/site-packages/torch_geometric/data/collate.py:145: UserWarning:\n",
      "\n",
      "TypedStorage is deprecated. It will be removed in the future and UntypedStorage will be the only storage class. This should only matter to you if you are using storages directly.  To access UntypedStorage directly, use tensor.untyped_storage() instead of tensor.storage()\n",
      "\n",
      "/home/atj39/mambaforge/envs/workshop/lib/python3.9/site-packages/torch_geometric/data/collate.py:145: UserWarning:\n",
      "\n",
      "TypedStorage is deprecated. It will be removed in the future and UntypedStorage will be the only storage class. This should only matter to you if you are using storages directly.  To access UntypedStorage directly, use tensor.untyped_storage() instead of tensor.storage()\n",
      "\n",
      "/home/atj39/mambaforge/envs/workshop/lib/python3.9/site-packages/torch_geometric/data/collate.py:145: UserWarning:\n",
      "\n",
      "TypedStorage is deprecated. It will be removed in the future and UntypedStorage will be the only storage class. This should only matter to you if you are using storages directly.  To access UntypedStorage directly, use tensor.untyped_storage() instead of tensor.storage()\n",
      "\n",
      "/home/atj39/mambaforge/envs/workshop/lib/python3.9/site-packages/torch_geometric/data/collate.py:145: UserWarning:\n",
      "\n",
      "TypedStorage is deprecated. It will be removed in the future and UntypedStorage will be the only storage class. This should only matter to you if you are using storages directly.  To access UntypedStorage directly, use tensor.untyped_storage() instead of tensor.storage()\n",
      "\n",
      "/home/atj39/mambaforge/envs/workshop/lib/python3.9/site-packages/torch_geometric/data/collate.py:145: UserWarning:\n",
      "\n",
      "TypedStorage is deprecated. It will be removed in the future and UntypedStorage will be the only storage class. This should only matter to you if you are using storages directly.  To access UntypedStorage directly, use tensor.untyped_storage() instead of tensor.storage()\n",
      "\n",
      "/home/atj39/mambaforge/envs/workshop/lib/python3.9/site-packages/torch_geometric/data/collate.py:145: UserWarning:\n",
      "\n",
      "TypedStorage is deprecated. It will be removed in the future and UntypedStorage will be the only storage class. This should only matter to you if you are using storages directly.  To access UntypedStorage directly, use tensor.untyped_storage() instead of tensor.storage()\n",
      "\n",
      "/home/atj39/mambaforge/envs/workshop/lib/python3.9/site-packages/torch_geometric/data/collate.py:145: UserWarning:\n",
      "\n",
      "TypedStorage is deprecated. It will be removed in the future and UntypedStorage will be the only storage class. This should only matter to you if you are using storages directly.  To access UntypedStorage directly, use tensor.untyped_storage() instead of tensor.storage()\n",
      "\n",
      "/home/atj39/mambaforge/envs/workshop/lib/python3.9/site-packages/torch_geometric/data/collate.py:145: UserWarning:\n",
      "\n",
      "TypedStorage is deprecated. It will be removed in the future and UntypedStorage will be the only storage class. This should only matter to you if you are using storages directly.  To access UntypedStorage directly, use tensor.untyped_storage() instead of tensor.storage()\n",
      "\n"
     ]
    }
   ],
   "source": [
    "for i in dl:\n",
    "    print(i)\n",
    "    break"
   ]
  },
  {
   "cell_type": "code",
   "execution_count": 18,
   "metadata": {},
   "outputs": [
    {
     "data": {
      "text/plain": [
       "DataBatch(chains=[10380], fill_value=[32], coords=[10380, 37, 3], residue_type=[10380], residue_id=[32], residues=[32], id=[32], atom_list=[32])"
      ]
     },
     "execution_count": 18,
     "metadata": {},
     "output_type": "execute_result"
    }
   ],
   "source": [
    "i"
   ]
  },
  {
   "attachments": {},
   "cell_type": "markdown",
   "metadata": {},
   "source": [
    "### Featurise a batch"
   ]
  },
  {
   "cell_type": "code",
   "execution_count": 19,
   "metadata": {},
   "outputs": [
    {
     "name": "stdout",
     "output_type": "stream",
     "text": [
      "{'representation': 'CA', 'node_features': ['amino_acid_one_hot'], 'edge_types': ['knn_10', 'eps_8'], 'edge_features': ['edge_distance', 'edge_angle', 'edge_torsion', 'edge_type_one_hot']}\n",
      "[tensor[10380, 23] n=238740 x∈[0., 1.000] μ=0.043 σ=0.204]\n"
     ]
    },
    {
     "data": {
      "text/plain": [
       "DataBatch(chains=[10380], fill_value=[32], coords=[10380, 3], residue_type=[10380], residue_id=[32], residues=[32], id=[32], atom_list=[32], pos=[10380, 37, 3], node_features=[10380, 23], edge_index=[2, 396253], edge_type=[1, 396253])"
      ]
     },
     "execution_count": 19,
     "metadata": {},
     "output_type": "execute_result"
    }
   ],
   "source": [
    "from proteinworkshop.features.factory import get_features\n",
    "\n",
    "print(cfg.features)\n",
    "\n",
    "\n",
    "data = get_features(i, cfg)\n",
    "data"
   ]
  },
  {
   "attachments": {},
   "cell_type": "markdown",
   "metadata": {},
   "source": [
    "### Define a new encoder"
   ]
  },
  {
   "cell_type": "code",
   "execution_count": null,
   "metadata": {},
   "outputs": [],
   "source": [
    "import torch.nn\n",
    "from graphein.protein.tensor.data import ProteinBatch\n",
    "from torch_geometric.data import Batch\n",
    "from proteinworkshop.types import EncoderOutput\n",
    "\n",
    "\n",
    "class MyNewProteinEncoder(nn.Module):\n",
    "    def __init__(self):\n",
    "        pass\n",
    "\n",
    "    def foward(self, batch: Union[Batch, ProteinBatch]) -> EncoderOutput:\n",
    "        output = {}\n",
    "        # Do stuff...\n",
    "        output[\"node_embeddings\"] = torch.randn(10, 10)\n",
    "        output[\"graph_embeddings\"] = self.aggregation(\n",
    "            output[\"node_embeddings\"]\n",
    "        )\n",
    "        return output"
   ]
  }
 ],
 "metadata": {
  "kernelspec": {
   "display_name": "Python 3",
   "language": "python",
   "name": "python3"
  },
  "language_info": {
   "codemirror_mode": {
    "name": "ipython",
    "version": 3
   },
   "file_extension": ".py",
   "mimetype": "text/x-python",
   "name": "python",
   "nbconvert_exporter": "python",
   "pygments_lexer": "ipython3",
   "version": "3.9.16"
  },
  "orig_nbformat": 4
 },
 "nbformat": 4,
 "nbformat_minor": 2
}
